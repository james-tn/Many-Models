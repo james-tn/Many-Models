{
 "cells": [
  {
   "cell_type": "code",
   "execution_count": 159,
   "metadata": {},
   "outputs": [
    {
     "name": "stdout",
     "output_type": "stream",
     "text": [
      "upstream connect error or disconnect/reset before headers. reset reason: connection failure\n"
     ]
    }
   ],
   "source": [
    "import urllib.request\n",
    "import requests\n",
    "import pandas as pd\n",
    "import json\n",
    "for file_name in ['test_data_1000_dominicks.csv','test_data_1002_tropicana.csv']:\n",
    "    sample_data= pd.read_csv(file_name)\n",
    "    sample_data.drop(['Unnamed: 0'], axis=1, inplace=True)\n",
    "    #Use the below version of URL and header in case you test with remote web service (AKS)\n",
    "    url ='https://many-model2.westus2.inference.ml.azure.com/score'\n",
    "    api_key = '9Qnjp0tSwMUrFJtMk4q8fqbDprq9fUsv' # Replace this with the API key for the web service\n",
    "    headers = {'Content-Type':'application/json', 'Authorization':('Bearer '+ api_key)}\n",
    "\n",
    "\n",
    "\n",
    "    data = {\"Inputs\":sample_data.to_json() }\n",
    "    body = str.encode(json.dumps(data))\n",
    "    resp = requests.post(url, data=body, headers=headers)\n",
    "    print(resp.text)\n"
   ]
  },
  {
   "cell_type": "code",
   "execution_count": 8,
   "metadata": {},
   "outputs": [
    {
     "name": "stdout",
     "output_type": "stream",
     "text": [
      "Role 'CSEO DevOps Role' contains Microsoft.ContainerService/managedClusters/read\n",
      "Role 'CSEO DevOps Role' contains Microsoft.ContainerService/managedClusters/write\n",
      "Role 'MD DevOps (Test)' contains Microsoft.ContainerService/managedClusters/read\n",
      "Role 'MD DevOps (Test)' contains Microsoft.ContainerService/managedClusters/write\n",
      "Role 'TnR DevOps Role' contains Microsoft.ContainerService/managedClusters/read\n",
      "Role 'TnR DevOps Role' contains Microsoft.ContainerService/managedClusters/write\n",
      "Role 'Microsoft Digital DevOps' contains Microsoft.ContainerService/managedClusters/read\n",
      "Role 'Microsoft Digital DevOps' contains Microsoft.ContainerService/managedClusters/write\n",
      "Role 'MCB DevOps Role' contains Microsoft.ContainerService/managedClusters/read\n",
      "Role 'MCB DevOps Role' contains Microsoft.ContainerService/managedClusters/write\n",
      "Role 'HR DevOps Role' contains Microsoft.ContainerService/managedClusters/read\n",
      "Role 'HR DevOps Role' contains Microsoft.ContainerService/managedClusters/write\n",
      "Role 'CELA DevOps Role' contains Microsoft.ContainerService/managedClusters/read\n",
      "Role 'CELA DevOps Role' contains Microsoft.ContainerService/managedClusters/write\n",
      "Role 'BizDev DevOps Role' contains Microsoft.ContainerService/managedClusters/read\n",
      "Role 'BizDev DevOps Role' contains Microsoft.ContainerService/managedClusters/write\n",
      "Role 'Finance DevOps Role' contains Microsoft.ContainerService/managedClusters/read\n",
      "Role 'Finance DevOps Role' contains Microsoft.ContainerService/managedClusters/write\n",
      "Role 'MCAPS Core DevOps Role' contains Microsoft.ContainerService/managedClusters/read\n",
      "Role 'MCAPS Core DevOps Role' contains Microsoft.ContainerService/managedClusters/write\n",
      "Role 'MCAPS Regions DevOps Role' contains Microsoft.ContainerService/managedClusters/read\n",
      "Role 'MCAPS Regions DevOps Role' contains Microsoft.ContainerService/managedClusters/write\n",
      "Role 'SCIM DevOps Role' contains Microsoft.ContainerService/managedClusters/read\n",
      "Role 'SCIM DevOps Role' contains Microsoft.ContainerService/managedClusters/write\n",
      "Role 'EnD DevOps' contains Microsoft.ContainerService/managedClusters/read\n",
      "Role 'EnD DevOps' contains Microsoft.ContainerService/managedClusters/write\n",
      "Role 'Azure Kubernetes Service Cluster Admin Role' contains Microsoft.ContainerService/managedClusters/listClusterAdminCredential/action\n",
      "Role 'Azure Kubernetes Service Cluster Admin Role' contains Microsoft.ContainerService/managedClusters/accessProfiles/listCredential/action\n",
      "Role 'Azure Kubernetes Service Cluster Admin Role' contains Microsoft.ContainerService/managedClusters/read\n",
      "Role 'Azure Kubernetes Service Cluster Admin Role' contains Microsoft.ContainerService/managedClusters/runcommand/action\n",
      "Role 'Azure Kubernetes Service Cluster User Role' contains Microsoft.ContainerService/managedClusters/listClusterUserCredential/action\n",
      "Role 'Azure Kubernetes Service Cluster User Role' contains Microsoft.ContainerService/managedClusters/read\n",
      "Role 'Azure Kubernetes Service Contributor Role' contains Microsoft.ContainerService/managedClusters/read\n",
      "Role 'Azure Kubernetes Service Contributor Role' contains Microsoft.ContainerService/managedClusters/write\n",
      "Role 'Azure Kubernetes Service RBAC Cluster Admin' contains Microsoft.ContainerService/managedClusters/listClusterUserCredential/action\n",
      "Role 'Azure Kubernetes Service RBAC Admin' contains Microsoft.ContainerService/managedClusters/listClusterUserCredential/action\n"
     ]
    }
   ],
   "source": [
    "import sys\n",
    "from azure.identity import DefaultAzureCredential\n",
    "from azure.mgmt.authorization import AuthorizationManagementClient\n",
    "\n",
    "\n",
    "\n",
    "credential = DefaultAzureCredential()\n",
    "client = AuthorizationManagementClient(\n",
    "    credential=credential,\n",
    "    subscription_id=\"0e9bace8-7a81-4922-83b5-d995ff706507\"\n",
    ")\n",
    "\n",
    "desired_action = \"Microsoft.ContainerService/managedclusters/extensionaddons/read\"\n",
    "desired_action_lower = desired_action.lower()\n",
    "# desired_action_wildcard = \"/\".join(desired_action_lower.split(\"/\")[:-1] + [\"*\"])\n",
    "\n",
    "role_definitions = list(client.role_definitions.list(scope=\"\"))\n",
    "for role_def in client.role_definitions.list(scope=\"\"):\n",
    "    for permission in role_def.permissions:\n",
    "        for action in permission.actions:\n",
    "            if desired_action_lower in action.lower():\n",
    "                print(f\"Role '{role_def.role_name}' contains {action}\")\n"
   ]
  },
  {
   "cell_type": "code",
   "execution_count": null,
   "metadata": {},
   "outputs": [],
   "source": []
  }
 ],
 "metadata": {
  "kernelspec": {
   "display_name": "Python 3.6.12 ('python36')",
   "language": "python",
   "name": "python3"
  },
  "language_info": {
   "codemirror_mode": {
    "name": "ipython",
    "version": 3
   },
   "file_extension": ".py",
   "mimetype": "text/x-python",
   "name": "python",
   "nbconvert_exporter": "python",
   "pygments_lexer": "ipython3",
   "version": "3.6.12"
  },
  "orig_nbformat": 4,
  "vscode": {
   "interpreter": {
    "hash": "ad285904f9b010f2d3df051d83816b6f65221ad3c9620df12e82bf65c95f5e4d"
   }
  }
 },
 "nbformat": 4,
 "nbformat_minor": 2
}
