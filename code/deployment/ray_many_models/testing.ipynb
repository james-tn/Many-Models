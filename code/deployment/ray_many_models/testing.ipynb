{
 "cells": [
  {
   "cell_type": "markdown",
   "metadata": {},
   "source": [
    "Preperation before running the test\n",
    "1. Register the model/model.joblib in your workspace under the name sklearn-iris\n",
    "2. Create AKS cluster and attach it to your workspace using AKS creation the commands in ray_aks_setup.yaml\n",
    "3. Deploy Azure ML web services with following commmand (install azure ml cli v2 if neccessary)\n",
    " az online-endpoint create -f endpoint.yml\n",
    " az online-deployment create -f blue-deployment.yml\n",
    "4. Update the environment variables with values in ray_service.yaml line 80-91 with values of a service principal to download model from your workspace (creating one and assign role if neccessary)\n",
    "5. Run ray service deployment commands in ray_aks_setup.yaml \n",
    "6. If you update your code (ray_score.py), then you have to zip the folder script and push to ray repo. Update the line 15 in ray_aks_setup.yaml to point the working_dir to the zip file in your git repo\n",
    "\n"
   ]
  },
  {
   "cell_type": "code",
   "execution_count": 1,
   "metadata": {},
   "outputs": [],
   "source": [
    "import json\n",
    "import urllib.request\n",
    "\n",
    "def score(data):\n",
    "\n",
    "    body = str.encode(json.dumps(data))\n",
    "\n",
    "    url = 'http://51.143.58.196/api/v1/endpoint/ray-many-model/score'\n",
    "    api_key = 'ffhAYnYvBhUFNxX0oKbZgyH5nvmBPItT' # Replace this with the API key for the web service\n",
    "\n",
    "\n",
    "    # The azureml-model-deployment header will force the request to go to a specific deployment.\n",
    "    # Remove this header to have the request observe the endpoint traffic rules\n",
    "    headers = {'Content-Type':'application/json', 'Authorization':('Bearer '+ api_key)}\n",
    "\n",
    "    req = urllib.request.Request(url, body, headers)\n",
    "\n",
    "    try:\n",
    "        response = urllib.request.urlopen(req)\n",
    "\n",
    "        result = response.read()\n",
    "        print(result)\n",
    "    except urllib.error.HTTPError as error:\n",
    "        print(\"The request failed with status code: \" + str(error.code))\n",
    "\n",
    "        # Print the headers - they include the requert ID and the timestamp, which are useful for debugging the failure\n",
    "        print(error.info())\n",
    "        print(error.read().decode(\"utf8\", 'ignore'))\n"
   ]
  },
  {
   "cell_type": "code",
   "execution_count": 21,
   "metadata": {},
   "outputs": [
    {
     "name": "stdout",
     "output_type": "stream",
     "text": [
      "b'\"{\\\\\"result\\\\\": \\\\\"{\\\\\\\\\\\\\"deployment\\\\\\\\\\\\\":\\\\\\\\\\\\\"Deployment1\\\\\\\\\\\\\",\\\\\\\\\\\\\"model\\\\\\\\\\\\\":\\\\\\\\\\\\\"tenant1\\\\\\\\\\\\\",\\\\\\\\\\\\\"prediction\\\\\\\\\\\\\":[0,0,0,0,0,0,0,0,0,0,0,0,0,0,0]}\\\\\"}\"'\n"
     ]
    }
   ],
   "source": [
    "import pandas as pd\n",
    "from sklearn.preprocessing import LabelEncoder\n",
    "import joblib\n",
    "dataset = pd.read_csv(\"https://azuremlexamples.blob.core.windows.net/datasets/iris.csv\")\n",
    "X= dataset[['sepal_length','sepal_width','petal_length','petal_width']]\n",
    "data = {\"tenant\":\"tenant1\", \"data\": X.head(15).to_numpy().tolist()}\n",
    "score(data)"
   ]
  },
  {
   "cell_type": "code",
   "execution_count": null,
   "metadata": {},
   "outputs": [],
   "source": []
  }
 ],
 "metadata": {
  "kernelspec": {
   "display_name": "Python 3.8.5 ('dlresearch')",
   "language": "python",
   "name": "python3"
  },
  "language_info": {
   "codemirror_mode": {
    "name": "ipython",
    "version": 3
   },
   "file_extension": ".py",
   "mimetype": "text/x-python",
   "name": "python",
   "nbconvert_exporter": "python",
   "pygments_lexer": "ipython3",
   "version": "3.8.5"
  },
  "orig_nbformat": 4,
  "vscode": {
   "interpreter": {
    "hash": "8858a4df92b06e9052bc306608e3218c33233584bc6448961c72d65ba55843de"
   }
  }
 },
 "nbformat": 4,
 "nbformat_minor": 2
}
