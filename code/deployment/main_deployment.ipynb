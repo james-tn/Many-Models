{
 "cells": [
  {
   "cell_type": "markdown",
   "metadata": {},
   "source": [
    "Follow the steps in https://docs.microsoft.com/en-us/azure/machine-learning/how-to-deploy-managed-online-endpoints to deploy the scoring function to Azure.\r\n",
    "This scoring is on demand, i.e. it only loads the model when the client requests."
   ]
  },
  {
   "cell_type": "code",
   "execution_count": 4,
   "metadata": {},
   "outputs": [],
   "source": [
    "import urllib.request\r\n",
    "import requests\r\n",
    "import pandas as pd\r\n",
    "import json\r\n",
    "for file_name in ['test_data_1000_dominicks.csv','test_data_1002_tropicana.csv']:\r\n",
    "    sample_data= pd.read_csv(file_name)\r\n",
    "    sample_data.drop(['Unnamed: 0'], axis=1, inplace=True)\r\n",
    "    #Use the below version of URL and header in case you test with remote web service (AKS)\r\n",
    "    url ='https://many-model.westus2.inference.ml.azure.com/'\r\n",
    "    api_key = 'YOUR_KEY' # Replace this with the API key for the web service\r\n",
    "    headers = {'Content-Type':'application/json', 'Authorization':('Bearer '+ api_key)}\r\n",
    "\r\n",
    "\r\n",
    "\r\n",
    "    data = {\"Inputs\":sample_data.to_json() }\r\n",
    "    body = str.encode(json.dumps(data))\r\n",
    "    resp = requests.post(url, data=body, headers=headers)\r\n",
    "    print(resp.text)\r\n"
   ]
  },
  {
   "cell_type": "code",
   "execution_count": null,
   "metadata": {},
   "outputs": [],
   "source": []
  }
 ],
 "metadata": {
  "interpreter": {
   "hash": "01395c2bf5351d89929a188eaee14092f5abeb2f2ed0be057aa3ed6e35212c40"
  },
  "kernelspec": {
   "display_name": "Python 3.6.12 64-bit ('mlflow-1a43b1fcadd2a32c00a1972c5464ff374bda3f6b': conda)",
   "name": "python3"
  },
  "language_info": {
   "codemirror_mode": {
    "name": "ipython",
    "version": 3
   },
   "file_extension": ".py",
   "mimetype": "text/x-python",
   "name": "python",
   "nbconvert_exporter": "python",
   "pygments_lexer": "ipython3",
   "version": "3.8.5"
  },
  "orig_nbformat": 4
 },
 "nbformat": 4,
 "nbformat_minor": 2
}