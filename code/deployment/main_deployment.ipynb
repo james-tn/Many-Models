{
 "cells": [
  {
   "cell_type": "markdown",
   "metadata": {},
   "source": [
    "Follow the steps in https://docs.microsoft.com/en-us/azure/machine-learning/how-to-deploy-managed-online-endpoints to deploy the scoring function to Azure.\n",
    "This scoring is on demand, i.e. it only loads the model when the client requests."
   ]
  },
  {
   "cell_type": "code",
   "execution_count": 1,
   "metadata": {},
   "outputs": [
    {
     "name": "stderr",
     "output_type": "stream",
     "text": [
      "C:\\Users\\janguy\\Anaconda3\\envs\\dlresearch\\lib\\site-packages\\numpy\\_distributor_init.py:30: UserWarning: loaded more than 1 DLL from .libs:\n",
      "C:\\Users\\janguy\\Anaconda3\\envs\\dlresearch\\lib\\site-packages\\numpy\\.libs\\libopenblas.NOIJJG62EMASZI6NYURL6JBKM4EVBGM7.gfortran-win_amd64.dll\n",
      "C:\\Users\\janguy\\Anaconda3\\envs\\dlresearch\\lib\\site-packages\\numpy\\.libs\\libopenblas.PYQHXLVVQ7VESDPUVUADXEVJOBGHJPAY.gfortran-win_amd64.dll\n",
      "  warnings.warn(\"loaded more than 1 DLL from .libs:\\n%s\" %\n"
     ]
    },
    {
     "name": "stdout",
     "output_type": "stream",
     "text": [
      "key_auth_access_denied\n",
      "key_auth_access_denied\n"
     ]
    }
   ],
   "source": [
    "import urllib.request\n",
    "import requests\n",
    "import pandas as pd\n",
    "import json\n",
    "for file_name in ['test_data_1000_dominicks.csv','test_data_1002_tropicana.csv']:\n",
    "    sample_data= pd.read_csv(file_name)\n",
    "    sample_data.drop(['Unnamed: 0'], axis=1, inplace=True)\n",
    "    #Use the below version of URL and header in case you test with remote web service (AKS)\n",
    "    url ='https://many-model.westus2.inference.ml.azure.com/score'\n",
    "    api_key = 'K8It9Dq12BpQu8ryt6VRXZB1AmCzfsZu' # Replace this with the API key for the web service\n",
    "    headers = {'Content-Type':'application/json', 'Authorization':('Bearer '+ api_key)}\n",
    "\n",
    "\n",
    "\n",
    "    data = {\"Inputs\":sample_data.to_json() }\n",
    "    body = str.encode(json.dumps(data))\n",
    "    resp = requests.post(url, data=body, headers=headers)\n",
    "    print(resp.text)\n"
   ]
  },
  {
   "cell_type": "code",
   "execution_count": 4,
   "metadata": {},
   "outputs": [
    {
     "name": "stdout",
     "output_type": "stream",
     "text": [
      "b'\"{\\\\\"result\\\\\": \\\\\"deployment3 some_input 783\\\\\"}\"'\n"
     ]
    }
   ],
   "source": [
    "import urllib.request\n",
    "import json\n",
    "import os\n",
    "import ssl\n",
    "import random\n",
    "def allowSelfSignedHttps(allowed):\n",
    "    # bypass the server certificate verification on client side\n",
    "    if allowed and not os.environ.get('PYTHONHTTPSVERIFY', '') and getattr(ssl, '_create_unverified_context', None):\n",
    "        ssl._create_default_https_context = ssl._create_unverified_context\n",
    "\n",
    "allowSelfSignedHttps(True) # this line is needed if you use self-signed certificate in your scoring service.\n",
    "\n",
    "# Request data goes here\n",
    "# The example below assumes JSON formatting which may be updated\n",
    "# depending on the format your endpoint expects.\n",
    "# More information can be found here:\n",
    "# https://docs.microsoft.com/azure/machine-learning/how-to-deploy-advanced-entry-script\n",
    "def score():\n",
    "    number = random.randint(0,1000)\n",
    "    data = {\"data\":\"some_input \"+str(number)}\n",
    "\n",
    "    body = str.encode(json.dumps(data))\n",
    "\n",
    "    url = 'http://52.137.89.247:80/api/v1/service/many-models-ray/score'\n",
    "    api_key = 'lPEKXOMscRp5VZaM14hXZKOQoJTQ8VuZ' # Replace this with the API key for the web service\n",
    "\n",
    "    # The azureml-model-deployment header will force the request to go to a specific deployment.\n",
    "    # Remove this header to have the request observe the endpoint traffic rules\n",
    "    headers = {'Content-Type':'application/json', 'Authorization':('Bearer '+ api_key)}\n",
    "\n",
    "    req = urllib.request.Request(url, body, headers)\n",
    "\n",
    "    try:\n",
    "        response = urllib.request.urlopen(req)\n",
    "\n",
    "        result = response.read()\n",
    "        print(result)\n",
    "    except urllib.error.HTTPError as error:\n",
    "        print(\"The request failed with status code: \" + str(error.code))\n",
    "\n",
    "        # Print the headers - they include the requert ID and the timestamp, which are useful for debugging the failure\n",
    "        print(error.info())\n",
    "        print(error.read().decode(\"utf8\", 'ignore'))\n",
    "import threading\n",
    "import concurrent.futures\n",
    "# with concurrent.futures.ThreadPoolExecutor() as executor:\n",
    "#     for i in range(20):\n",
    "#         # executor.submit(score)\n",
    "#         thread.start_new_thread(score,\"thread \"+str(i) )\n",
    "\n",
    "for i in range(10):\n",
    "    # executor.submit(score)\n",
    "    threading.Thread(target = score).start()\n"
   ]
  },
  {
   "cell_type": "code",
   "execution_count": 9,
   "metadata": {},
   "outputs": [
    {
     "name": "stdout",
     "output_type": "stream",
     "text": [
      "The request failed with status code: 502\n",
      "cache-control: max-age=0, private, must-revalidate\n",
      "connection: close\n",
      "content-length: 145\n",
      "content-type: text/plain; charset=utf-8\n",
      "date: Thu, 25 Aug 2022 21:45:01 GMT\n",
      "server: Cowboy\n",
      "x-ms-request-id: 010f6d3f-e260-4c22-8fd1-8dd36e7a1e49\n",
      "\n",
      "\n",
      "Not enough working backends for service many-models-ray (deadline), last failure: timeout. \n",
      "Help: https://go.microsoft.com/fwlink/?linkid=2146748\n"
     ]
    }
   ],
   "source": [
    "score()"
   ]
  },
  {
   "cell_type": "code",
   "execution_count": null,
   "metadata": {},
   "outputs": [],
   "source": []
  }
 ],
 "metadata": {
  "kernelspec": {
   "display_name": "Python 3.8.5 ('dlresearch')",
   "language": "python",
   "name": "python3"
  },
  "language_info": {
   "codemirror_mode": {
    "name": "ipython",
    "version": 3
   },
   "file_extension": ".py",
   "mimetype": "text/x-python",
   "name": "python",
   "nbconvert_exporter": "python",
   "pygments_lexer": "ipython3",
   "version": "3.8.5"
  },
  "orig_nbformat": 4,
  "vscode": {
   "interpreter": {
    "hash": "8858a4df92b06e9052bc306608e3218c33233584bc6448961c72d65ba55843de"
   }
  }
 },
 "nbformat": 4,
 "nbformat_minor": 2
}
