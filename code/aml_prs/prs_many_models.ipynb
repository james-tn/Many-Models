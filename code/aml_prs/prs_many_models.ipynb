{
 "cells": [
  {
   "cell_type": "markdown",
   "metadata": {},
   "source": [
    "Copyright (c) Microsoft Corporation. All rights reserved. \n",
    "Licensed under the MIT License."
   ]
  },
  {
   "cell_type": "markdown",
   "metadata": {},
   "source": [
    "![Impressions](https://PixelServer20190423114238.azurewebsites.net/api/impressions/MachineLearningNotebooks/how-to-use-azureml/machine-learning-pipelines/parallel-run/tabular-dataset-partition-per-column.png)"
   ]
  },
  {
   "cell_type": "markdown",
   "metadata": {},
   "source": [
    "# Using Azure Machine Learning Pipelines and Parallel Run Step (PRS) for Many Model Training and Batch Inference using tabular input partitioned by column value\r\n",
    "\r\n",
    "\r\n",
    "This example will create a partitioned tabular dataset by splitting the rows in a large csv file by its value on specified column. Each partition will form up a mini-batch in the parallel processing procedure.\r\n",
    "\r\n",
    "The outline of this notebook is as follows:\r\n",
    "\r\n",
    "- Create a tabular dataset partitioned by value on specified column.\r\n",
    "- Do ML training of forecast model per each partition\r\n",
    "- Do batch inference on the dataset with each mini-batch corresponds to one partition.\r\n"
   ]
  },
  {
   "cell_type": "markdown",
   "metadata": {},
   "source": [
    "### Connect to workspace"
   ]
  },
  {
   "cell_type": "code",
   "execution_count": 1,
   "metadata": {},
   "outputs": [
    {
     "name": "stderr",
     "output_type": "stream",
     "text": [
      "C:\\Users\\janguy\\Anaconda3\\envs\\dlresearch\\lib\\site-packages\\numpy\\_distributor_init.py:30: UserWarning: loaded more than 1 DLL from .libs:\n",
      "C:\\Users\\janguy\\Anaconda3\\envs\\dlresearch\\lib\\site-packages\\numpy\\.libs\\libopenblas.NOIJJG62EMASZI6NYURL6JBKM4EVBGM7.gfortran-win_amd64.dll\n",
      "C:\\Users\\janguy\\Anaconda3\\envs\\dlresearch\\lib\\site-packages\\numpy\\.libs\\libopenblas.PYQHXLVVQ7VESDPUVUADXEVJOBGHJPAY.gfortran-win_amd64.dll\n",
      "  warnings.warn(\"loaded more than 1 DLL from .libs:\\n%s\" %\n",
      "WARNING - Warning: Falling back to use azure cli login credentials.\n",
      "If you run your code in unattended mode, i.e., where you can't give a user input, then we recommend to use ServicePrincipalAuthentication or MsiAuthentication.\n",
      "Please refer to aka.ms/aml-notebook-auth for different authentication mechanisms in azureml-sdk.\n"
     ]
    },
    {
     "name": "stdout",
     "output_type": "stream",
     "text": [
      "Workspace name: ws01ent\n",
      "Azure region: westus2\n",
      "Subscription id: 0e9bace8-7a81-4922-83b5-d995ff706507\n",
      "Resource group: azureml\n"
     ]
    }
   ],
   "source": [
    "from azureml.core.workspace import Workspace\r\n",
    "\r\n",
    "from azureml.core.authentication import InteractiveLoginAuthentication\r\n",
    "from azureml.core import Workspace\r\n",
    "\r\n",
    "subscription_id = 'YOUR_SUBSCRIPTION_ID'\r\n",
    "# Azure Machine Learning resource group NOT the managed resource group\r\n",
    "resource_group = 'YOUR_RESOURCE_GROUP' \r\n",
    "\r\n",
    "#Azure Machine Learning workspace name, NOT Azure Databricks workspace\r\n",
    "workspace_name = 'YOUR_WORKSPACE'  \r\n",
    "#Add tenant ID in case you have mutiple tenants\r\n",
    "tenant_id ='YOUR_TENANT_ID' \r\n",
    "\r\n",
    "auth = InteractiveLoginAuthentication(tenant_id =tenant_id)\r\n",
    "# Instantiate Azure Machine Learning workspace\r\n",
    "ws = Workspace.get(name=workspace_name,\r\n",
    "                   subscription_id=subscription_id,\r\n",
    "                   resource_group=resource_group,auth= auth)\r\n",
    "\r\n",
    "print('Workspace name: ' + ws.name, \r\n",
    "      'Azure region: ' + ws.location, \r\n",
    "      'Subscription id: ' + ws.subscription_id, \r\n",
    "      'Resource group: ' + ws.resource_group, sep = '\\n')\r\n",
    "\r\n",
    "datastore = ws.get_default_datastore()"
   ]
  },
  {
   "cell_type": "code",
   "execution_count": 2,
   "metadata": {},
   "outputs": [
    {
     "name": "stdout",
     "output_type": "stream",
     "text": [
      "1.31.0\n"
     ]
    }
   ],
   "source": [
    "import azureml.core\n",
    "print(azureml.core.VERSION)"
   ]
  },
  {
   "cell_type": "markdown",
   "metadata": {},
   "source": [
    "### Download OJ sales data from opendataset url"
   ]
  },
  {
   "cell_type": "code",
   "execution_count": null,
   "metadata": {},
   "outputs": [],
   "source": [
    "# ! pip install azureml-opendatasets --user"
   ]
  },
  {
   "cell_type": "code",
   "execution_count": 3,
   "metadata": {},
   "outputs": [
    {
     "data": {
      "text/plain": [
       "['c:\\\\Users\\\\janguy\\\\OneDrive - Microsoft\\\\Documents\\\\projects\\\\training\\\\Many-Models\\\\data\\\\oj_sales_data\\\\https%3A\\\\%2Fazureopendatastorage.azurefd.net\\\\ojsales-simulatedcontainer\\\\oj_sales_data\\\\Store1000_dominicks.csv',\n",
       " 'c:\\\\Users\\\\janguy\\\\OneDrive - Microsoft\\\\Documents\\\\projects\\\\training\\\\Many-Models\\\\data\\\\oj_sales_data\\\\https%3A\\\\%2Fazureopendatastorage.azurefd.net\\\\ojsales-simulatedcontainer\\\\oj_sales_data\\\\Store1000_minute.maid.csv',\n",
       " 'c:\\\\Users\\\\janguy\\\\OneDrive - Microsoft\\\\Documents\\\\projects\\\\training\\\\Many-Models\\\\data\\\\oj_sales_data\\\\https%3A\\\\%2Fazureopendatastorage.azurefd.net\\\\ojsales-simulatedcontainer\\\\oj_sales_data\\\\Store1000_tropicana.csv',\n",
       " 'c:\\\\Users\\\\janguy\\\\OneDrive - Microsoft\\\\Documents\\\\projects\\\\training\\\\Many-Models\\\\data\\\\oj_sales_data\\\\https%3A\\\\%2Fazureopendatastorage.azurefd.net\\\\ojsales-simulatedcontainer\\\\oj_sales_data\\\\Store1001_dominicks.csv',\n",
       " 'c:\\\\Users\\\\janguy\\\\OneDrive - Microsoft\\\\Documents\\\\projects\\\\training\\\\Many-Models\\\\data\\\\oj_sales_data\\\\https%3A\\\\%2Fazureopendatastorage.azurefd.net\\\\ojsales-simulatedcontainer\\\\oj_sales_data\\\\Store1001_minute.maid.csv',\n",
       " 'c:\\\\Users\\\\janguy\\\\OneDrive - Microsoft\\\\Documents\\\\projects\\\\training\\\\Many-Models\\\\data\\\\oj_sales_data\\\\https%3A\\\\%2Fazureopendatastorage.azurefd.net\\\\ojsales-simulatedcontainer\\\\oj_sales_data\\\\Store1001_tropicana.csv',\n",
       " 'c:\\\\Users\\\\janguy\\\\OneDrive - Microsoft\\\\Documents\\\\projects\\\\training\\\\Many-Models\\\\data\\\\oj_sales_data\\\\https%3A\\\\%2Fazureopendatastorage.azurefd.net\\\\ojsales-simulatedcontainer\\\\oj_sales_data\\\\Store1002_dominicks.csv',\n",
       " 'c:\\\\Users\\\\janguy\\\\OneDrive - Microsoft\\\\Documents\\\\projects\\\\training\\\\Many-Models\\\\data\\\\oj_sales_data\\\\https%3A\\\\%2Fazureopendatastorage.azurefd.net\\\\ojsales-simulatedcontainer\\\\oj_sales_data\\\\Store1002_minute.maid.csv',\n",
       " 'c:\\\\Users\\\\janguy\\\\OneDrive - Microsoft\\\\Documents\\\\projects\\\\training\\\\Many-Models\\\\data\\\\oj_sales_data\\\\https%3A\\\\%2Fazureopendatastorage.azurefd.net\\\\ojsales-simulatedcontainer\\\\oj_sales_data\\\\Store1002_tropicana.csv',\n",
       " 'c:\\\\Users\\\\janguy\\\\OneDrive - Microsoft\\\\Documents\\\\projects\\\\training\\\\Many-Models\\\\data\\\\oj_sales_data\\\\https%3A\\\\%2Fazureopendatastorage.azurefd.net\\\\ojsales-simulatedcontainer\\\\oj_sales_data\\\\Store1003_dominicks.csv']"
      ]
     },
     "execution_count": 3,
     "metadata": {},
     "output_type": "execute_result"
    }
   ],
   "source": [
    "import os\r\n",
    "from azureml.opendatasets import OjSalesSimulated\r\n",
    "dataset_maxfiles = 10 # Set to 11973 or 0 to get all the files\r\n",
    "\r\n",
    "# Pull all of the data\r\n",
    "oj_sales_files = OjSalesSimulated.get_file_dataset()\r\n",
    "\r\n",
    "# Pull only the first `dataset_maxfiles` files\r\n",
    "if dataset_maxfiles:\r\n",
    "    oj_sales_files = oj_sales_files.take(dataset_maxfiles)\r\n",
    "\r\n",
    "# Create a folder to download\r\n",
    "download_path = '..\\..\\data\\oj_sales_data' \r\n",
    "os.makedirs(download_path, exist_ok=True)\r\n",
    "\r\n",
    "# Download the data\r\n",
    "oj_sales_files.download(download_path, overwrite=True,)"
   ]
  },
  {
   "cell_type": "markdown",
   "metadata": {},
   "source": [
    "### Upload OJ sales data to datastore"
   ]
  },
  {
   "cell_type": "code",
   "execution_count": 4,
   "metadata": {},
   "outputs": [
    {
     "name": "stdout",
     "output_type": "stream",
     "text": [
      "Uploading an estimated of 10 files\n",
      "Uploading ..\\..\\data\\oj_sales_data\\https%3A\\%2Fazureopendatastorage.azurefd.net\\ojsales-simulatedcontainer\\oj_sales_data\\Store1000_minute.maid.csv\n",
      "Uploaded ..\\..\\data\\oj_sales_data\\https%3A\\%2Fazureopendatastorage.azurefd.net\\ojsales-simulatedcontainer\\oj_sales_data\\Store1000_minute.maid.csv, 1 files out of an estimated total of 10\n",
      "Uploading ..\\..\\data\\oj_sales_data\\https%3A\\%2Fazureopendatastorage.azurefd.net\\ojsales-simulatedcontainer\\oj_sales_data\\Store1000_tropicana.csv\n",
      "Uploaded ..\\..\\data\\oj_sales_data\\https%3A\\%2Fazureopendatastorage.azurefd.net\\ojsales-simulatedcontainer\\oj_sales_data\\Store1000_tropicana.csv, 2 files out of an estimated total of 10\n",
      "Uploading ..\\..\\data\\oj_sales_data\\https%3A\\%2Fazureopendatastorage.azurefd.net\\ojsales-simulatedcontainer\\oj_sales_data\\Store1001_dominicks.csv\n",
      "Uploaded ..\\..\\data\\oj_sales_data\\https%3A\\%2Fazureopendatastorage.azurefd.net\\ojsales-simulatedcontainer\\oj_sales_data\\Store1001_dominicks.csv, 3 files out of an estimated total of 10\n",
      "Uploading ..\\..\\data\\oj_sales_data\\https%3A\\%2Fazureopendatastorage.azurefd.net\\ojsales-simulatedcontainer\\oj_sales_data\\Store1001_minute.maid.csv\n",
      "Uploaded ..\\..\\data\\oj_sales_data\\https%3A\\%2Fazureopendatastorage.azurefd.net\\ojsales-simulatedcontainer\\oj_sales_data\\Store1001_minute.maid.csv, 4 files out of an estimated total of 10\n",
      "Uploading ..\\..\\data\\oj_sales_data\\https%3A\\%2Fazureopendatastorage.azurefd.net\\ojsales-simulatedcontainer\\oj_sales_data\\Store1001_tropicana.csv\n",
      "Uploaded ..\\..\\data\\oj_sales_data\\https%3A\\%2Fazureopendatastorage.azurefd.net\\ojsales-simulatedcontainer\\oj_sales_data\\Store1001_tropicana.csv, 5 files out of an estimated total of 10\n",
      "Uploading ..\\..\\data\\oj_sales_data\\https%3A\\%2Fazureopendatastorage.azurefd.net\\ojsales-simulatedcontainer\\oj_sales_data\\Store1002_dominicks.csv\n",
      "Uploaded ..\\..\\data\\oj_sales_data\\https%3A\\%2Fazureopendatastorage.azurefd.net\\ojsales-simulatedcontainer\\oj_sales_data\\Store1002_dominicks.csv, 6 files out of an estimated total of 10\n",
      "Uploading ..\\..\\data\\oj_sales_data\\https%3A\\%2Fazureopendatastorage.azurefd.net\\ojsales-simulatedcontainer\\oj_sales_data\\Store1002_minute.maid.csv\n",
      "Uploaded ..\\..\\data\\oj_sales_data\\https%3A\\%2Fazureopendatastorage.azurefd.net\\ojsales-simulatedcontainer\\oj_sales_data\\Store1002_minute.maid.csv, 7 files out of an estimated total of 10\n",
      "Uploading ..\\..\\data\\oj_sales_data\\https%3A\\%2Fazureopendatastorage.azurefd.net\\ojsales-simulatedcontainer\\oj_sales_data\\Store1002_tropicana.csv\n",
      "Uploaded ..\\..\\data\\oj_sales_data\\https%3A\\%2Fazureopendatastorage.azurefd.net\\ojsales-simulatedcontainer\\oj_sales_data\\Store1002_tropicana.csv, 8 files out of an estimated total of 10\n",
      "Uploading ..\\..\\data\\oj_sales_data\\https%3A\\%2Fazureopendatastorage.azurefd.net\\ojsales-simulatedcontainer\\oj_sales_data\\Store1003_dominicks.csv\n",
      "Uploaded ..\\..\\data\\oj_sales_data\\https%3A\\%2Fazureopendatastorage.azurefd.net\\ojsales-simulatedcontainer\\oj_sales_data\\Store1003_dominicks.csv, 9 files out of an estimated total of 10\n",
      "Uploading ..\\..\\data\\oj_sales_data\\https%3A\\%2Fazureopendatastorage.azurefd.net\\ojsales-simulatedcontainer\\oj_sales_data\\Store1000_dominicks.csv\n",
      "Uploaded ..\\..\\data\\oj_sales_data\\https%3A\\%2Fazureopendatastorage.azurefd.net\\ojsales-simulatedcontainer\\oj_sales_data\\Store1000_dominicks.csv, 10 files out of an estimated total of 10\n",
      "Uploaded 10 files\n"
     ]
    },
    {
     "data": {
      "text/plain": [
       "$AZUREML_DATAREFERENCE_4eb0d09ea48548ea8c04115672931893"
      ]
     },
     "execution_count": 4,
     "metadata": {},
     "output_type": "execute_result"
    }
   ],
   "source": [
    "target_path = 'oj_sales_data'\r\n",
    "\r\n",
    "datastore.upload(src_dir = download_path,\r\n",
    "                target_path = target_path,\r\n",
    "                overwrite = True, \r\n",
    "                show_progress = True)\r\n"
   ]
  },
  {
   "cell_type": "markdown",
   "metadata": {},
   "source": [
    "### Create tabular dataset\n",
    "Create normal tabular dataset"
   ]
  },
  {
   "cell_type": "code",
   "execution_count": 5,
   "metadata": {},
   "outputs": [
    {
     "name": "stdout",
     "output_type": "stream",
     "text": [
      "     WeekStarting  Store      Brand  Quantity  Advert  Price   Revenue\n",
      "0      1990-06-14   1000  dominicks     12003       1   2.59  31087.77\n",
      "1      1990-06-21   1000  dominicks     10239       1   2.39  24471.21\n",
      "2      1990-06-28   1000  dominicks     17917       1   2.48  44434.16\n",
      "3      1990-07-05   1000  dominicks     14218       1   2.33  33127.94\n",
      "4      1990-07-12   1000  dominicks     15925       1   2.01  32009.25\n",
      "...           ...    ...        ...       ...     ...    ...       ...\n",
      "1205   1992-09-03   1003  dominicks     10302       1   1.94  19985.88\n",
      "1206   1992-09-10   1003  dominicks     13502       1   2.16  29164.32\n",
      "1207   1992-09-17   1003  dominicks     19644       1   2.67  52449.48\n",
      "1208   1992-09-24   1003  dominicks     13860       1   2.29  31739.40\n",
      "1209   1992-10-01   1003  dominicks     11040       1   1.99  21969.60\n",
      "\n",
      "[1210 rows x 7 columns]\n"
     ]
    }
   ],
   "source": [
    "from azureml.core import Dataset\r\n",
    "\r\n",
    "dataset = Dataset.Tabular.from_delimited_files(path=(datastore, 'oj_sales_data/*/*/*/*/*.csv'))\r\n",
    "print(dataset.to_pandas_dataframe())"
   ]
  },
  {
   "cell_type": "markdown",
   "metadata": {},
   "source": [
    "### Partition the tabular dataset\n",
    "Partition the dataset by column 'store' and 'brand'. You can get a partition of data by specifying the value of one or more partition keys. E.g., by specifying `store=1000 and brand='tropicana'`, you can get all the rows that matches this condition in the dataset."
   ]
  },
  {
   "cell_type": "code",
   "execution_count": 6,
   "metadata": {},
   "outputs": [
    {
     "name": "stderr",
     "output_type": "stream",
     "text": [
      "WARNING - Method partition_by: This is an experimental method, and may change at any time. Please see https://aka.ms/azuremlexperimental for more information.\n"
     ]
    },
    {
     "name": "stdout",
     "output_type": "stream",
     "text": [
      "Validating arguments.\n",
      "Arguments validated.\n",
      "Uploading file to /partition_by_key_res/de780196-0cb4-4a48-bfcd-20a1a3039fa2/\n",
      "Successfully uploaded file to datastore.\n",
      "Creating a new dataset.\n",
      "Successfully created a new dataset.\n",
      "registering a new dataset.\n",
      "Successfully created and registered a new dataset.\n"
     ]
    },
    {
     "data": {
      "text/plain": [
       "['Store', 'Brand']"
      ]
     },
     "execution_count": 6,
     "metadata": {},
     "output_type": "execute_result"
    }
   ],
   "source": [
    "partitioned_dataset = dataset.partition_by(partition_keys=['Store', 'Brand'], target=(datastore, \"partition_by_key_res\"), name=\"partitioned_oj_data\")\r\n",
    "partitioned_dataset.partition_keys"
   ]
  },
  {
   "cell_type": "markdown",
   "metadata": {},
   "source": [
    "### Create or Attach existing compute resource"
   ]
  },
  {
   "cell_type": "code",
   "execution_count": 7,
   "metadata": {},
   "outputs": [
    {
     "name": "stderr",
     "output_type": "stream",
     "text": [
      "WARNING - Class SynapseCompute: This is an experimental class, and may change at any time. Please see https://aka.ms/azuremlexperimental for more information.\n",
      "WARNING - Class SynapseCompute: This is an experimental class, and may change at any time. Please see https://aka.ms/azuremlexperimental for more information.\n"
     ]
    },
    {
     "name": "stdout",
     "output_type": "stream",
     "text": [
      "found compute target. just use it. cpu-cluster\n"
     ]
    }
   ],
   "source": [
    "import os\n",
    "from azureml.core.compute import AmlCompute, ComputeTarget\n",
    "\n",
    "# choose a name for your cluster\n",
    "compute_name = os.environ.get(\"AML_COMPUTE_CLUSTER_NAME\", \"cpu-cluster\")\n",
    "compute_min_nodes = os.environ.get(\"AML_COMPUTE_CLUSTER_MIN_NODES\", 0)\n",
    "compute_max_nodes = os.environ.get(\"AML_COMPUTE_CLUSTER_MAX_NODES\", 2)\n",
    "\n",
    "# This example uses CPU VM. For using GPU VM, set SKU to STANDARD_NC6\n",
    "vm_size = os.environ.get(\"AML_COMPUTE_CLUSTER_SKU\", \"STANDARD_D2_V2\")\n",
    "\n",
    "\n",
    "if compute_name in ws.compute_targets:\n",
    "    compute_target = ws.compute_targets[compute_name]\n",
    "    if compute_target and type(compute_target) is AmlCompute:\n",
    "        print('found compute target. just use it. ' + compute_name)\n",
    "else:\n",
    "    print('creating a new compute target...')\n",
    "    provisioning_config = AmlCompute.provisioning_configuration(vm_size = vm_size,\n",
    "                                                                min_nodes = compute_min_nodes, \n",
    "                                                                max_nodes = compute_max_nodes)\n",
    "\n",
    "    # create the cluster\n",
    "    compute_target = ComputeTarget.create(ws, compute_name, provisioning_config)\n",
    "    \n",
    "    # can poll for a minimum number of nodes and for a specific timeout. \n",
    "    # if no min node count is provided it will use the scale settings for the cluster\n",
    "    compute_target.wait_for_completion(show_output=True, min_node_count=None, timeout_in_minutes=20)\n",
    "    \n",
    "     # For a more detailed view of current AmlCompute status, use get_status()\n",
    "    print(compute_target.get_status().serialize())"
   ]
  },
  {
   "cell_type": "markdown",
   "metadata": {},
   "source": [
    "### Intermediate/Output Data"
   ]
  },
  {
   "cell_type": "code",
   "execution_count": 8,
   "metadata": {},
   "outputs": [],
   "source": [
    "from azureml.pipeline.core import Pipeline, PipelineData\n",
    "\n",
    "output_dir = PipelineData(name=\"inferences\", datastore=datastore)"
   ]
  },
  {
   "cell_type": "code",
   "execution_count": 27,
   "metadata": {},
   "outputs": [],
   "source": [
    "scripts_folder = \"..\\..\\code\"\r\n",
    "inference_script_file = \"aml_prs\\prediction.py\"\r\n",
    "train_script_file = \"aml_prs\\model_train.py\""
   ]
  },
  {
   "cell_type": "markdown",
   "metadata": {},
   "source": [
    "## Build and run the model training  pipeline\r\n",
    "### Specify the environment to run the script\r\n",
    "You would need to specify the required private azureml packages in dependencies. "
   ]
  },
  {
   "cell_type": "code",
   "execution_count": 10,
   "metadata": {},
   "outputs": [],
   "source": [
    "from azureml.core import Environment\r\n",
    "from azureml.core.runconfig import CondaDependencies, DEFAULT_CPU_IMAGE\r\n",
    "\r\n",
    "batch_conda_deps = CondaDependencies.create(pip_packages=['sklearn', 'pandas', 'joblib', 'azureml-defaults', 'azureml-core', 'azureml-dataprep[fuse]'])\r\n",
    "batch_env = Environment(name=\"many_models_environment\")\r\n",
    "batch_env.python.conda_dependencies = batch_conda_deps\r\n",
    "batch_env.docker.base_image = DEFAULT_CPU_IMAGE"
   ]
  },
  {
   "cell_type": "markdown",
   "metadata": {},
   "source": [
    "## Training \r\n"
   ]
  },
  {
   "cell_type": "markdown",
   "metadata": {},
   "source": [
    "### Create the configuration to wrap the training script\r\n",
    "The parameter `partition_keys` is a list containing a subset of the dataset partition keys, specifying how is the input dataset partitioned. Each and every possible combination of values of partition_keys will form up a mini-batch. E.g., by specifying `partition_keys=['store', 'brand']` will result in mini-batches like `store=1000 && brand=tropicana`, `store=1000 && brand=dominicks`, `store=1001 && brand=dominicks`, ..."
   ]
  },
  {
   "cell_type": "code",
   "execution_count": 11,
   "metadata": {},
   "outputs": [
    {
     "name": "stderr",
     "output_type": "stream",
     "text": [
      "WARNING - Parameter partition_keys: This is an experimental parameter, and may change at any time. Please see https://aka.ms/azuremlexperimental for more information.\n"
     ]
    }
   ],
   "source": [
    "from azureml.pipeline.steps import ParallelRunStep, ParallelRunConfig\r\n",
    "\r\n",
    "# In a real-world scenario, you'll want to shape your process per node and nodes to fit your problem domain.\r\n",
    "parallel_run_train_config = ParallelRunConfig(\r\n",
    "    source_directory=scripts_folder,\r\n",
    "    entry_script=train_script_file,  # the user script to run against each input\r\n",
    "    partition_keys=['Store', 'Brand'],\r\n",
    "    error_threshold=-1,\r\n",
    "    output_action='append_row',\r\n",
    "    append_row_file_name=\"training_output.txt\",\r\n",
    "    environment=batch_env,\r\n",
    "    compute_target=compute_target, \r\n",
    "    node_count=2,\r\n",
    "    run_invocation_timeout=600\r\n",
    ")"
   ]
  },
  {
   "cell_type": "code",
   "execution_count": 12,
   "metadata": {},
   "outputs": [
    {
     "name": "stderr",
     "output_type": "stream",
     "text": [
      "C:\\Users\\janguy\\Anaconda3\\envs\\dlresearch\\lib\\site-packages\\azureml\\pipeline\\core\\_parallel_run_step_base.py:591: UserWarning: \n",
      "ParallelRunStep requires azureml-dataset-runtime[fuse,pandas] for tabular dataset.\n",
      "Please add relevant package in CondaDependencies.\n",
      "  warnings.warn(\n"
     ]
    }
   ],
   "source": [
    "parallel_run_train_step = ParallelRunStep(\r\n",
    "    name='train',\r\n",
    "    inputs=[partitioned_dataset.as_named_input(\"partitioned_tabular_input\")],\r\n",
    "    output=output_dir,\r\n",
    "    parallel_run_config=parallel_run_train_config,\r\n",
    "    allow_reuse=False\r\n",
    ")"
   ]
  },
  {
   "cell_type": "code",
   "execution_count": 13,
   "metadata": {},
   "outputs": [
    {
     "name": "stdout",
     "output_type": "stream",
     "text": [
      "Created step train [7ec698e8][82a5e60e-3634-4395-9af4-26bd6cbfff70], (This step will run and generate new outputs)\n",
      "Submitted PipelineRun 3a46572c-94e0-4f06-9e90-91a664b4f71f\n",
      "Link to Azure Machine Learning Portal: https://ml.azure.com/runs/3a46572c-94e0-4f06-9e90-91a664b4f71f?wsid=/subscriptions/0e9bace8-7a81-4922-83b5-d995ff706507/resourcegroups/azureml/workspaces/ws01ent&tid=72f988bf-86f1-41af-91ab-2d7cd011db47\n"
     ]
    }
   ],
   "source": [
    "from azureml.core import Experiment\r\n",
    "from azureml.pipeline.core import Pipeline\r\n",
    "\r\n",
    "pipeline = Pipeline(workspace=ws, steps=[parallel_run_train_step])\r\n",
    "\r\n",
    "pipeline_run = Experiment(ws, 'Many_Model_Forecast').submit(pipeline)"
   ]
  },
  {
   "cell_type": "code",
   "execution_count": 28,
   "metadata": {},
   "outputs": [],
   "source": [
    "pipeline_run.wait_for_completion(show_output=True)"
   ]
  },
  {
   "cell_type": "markdown",
   "metadata": {},
   "source": [
    "## View the training results\r\n",
    "In the model_train.py file you can see that the ResultList with training metrics gets returned. These are written to the DataStore specified in the PipelineData object as the output data, which in this case is called inferences. This containers the outputs from all of the worker nodes used in the compute cluster. You can download this data to view the results ... below just filters to the first 10 rows"
   ]
  },
  {
   "cell_type": "code",
   "execution_count": 18,
   "metadata": {},
   "outputs": [
    {
     "name": "stdout",
     "output_type": "stream",
     "text": [
      "Train result has  10  rows\n"
     ]
    },
    {
     "data": {
      "text/html": [
       "<div>\n",
       "<style scoped>\n",
       "    .dataframe tbody tr th:only-of-type {\n",
       "        vertical-align: middle;\n",
       "    }\n",
       "\n",
       "    .dataframe tbody tr th {\n",
       "        vertical-align: top;\n",
       "    }\n",
       "\n",
       "    .dataframe thead th {\n",
       "        text-align: right;\n",
       "    }\n",
       "</style>\n",
       "<table border=\"1\" class=\"dataframe\">\n",
       "  <thead>\n",
       "    <tr style=\"text-align: right;\">\n",
       "      <th></th>\n",
       "      <th>Store</th>\n",
       "      <th>Brand</th>\n",
       "      <th>mse</th>\n",
       "      <th>mape</th>\n",
       "      <th>rmse</th>\n",
       "      <th>model_name</th>\n",
       "    </tr>\n",
       "  </thead>\n",
       "  <tbody>\n",
       "    <tr>\n",
       "      <th>0</th>\n",
       "      <td>1000</td>\n",
       "      <td>minute.maid</td>\n",
       "      <td>1.022011e+07</td>\n",
       "      <td>18.172361</td>\n",
       "      <td>3196.891234</td>\n",
       "      <td>prs_1000_minute.maid</td>\n",
       "    </tr>\n",
       "    <tr>\n",
       "      <th>1</th>\n",
       "      <td>1001</td>\n",
       "      <td>tropicana</td>\n",
       "      <td>8.552595e+06</td>\n",
       "      <td>19.463062</td>\n",
       "      <td>2924.481928</td>\n",
       "      <td>prs_1001_tropicana</td>\n",
       "    </tr>\n",
       "    <tr>\n",
       "      <th>2</th>\n",
       "      <td>1000</td>\n",
       "      <td>dominicks</td>\n",
       "      <td>1.080181e+07</td>\n",
       "      <td>23.172431</td>\n",
       "      <td>3286.611380</td>\n",
       "      <td>prs_1000_dominicks</td>\n",
       "    </tr>\n",
       "    <tr>\n",
       "      <th>3</th>\n",
       "      <td>1001</td>\n",
       "      <td>dominicks</td>\n",
       "      <td>8.920132e+06</td>\n",
       "      <td>20.350161</td>\n",
       "      <td>2986.658951</td>\n",
       "      <td>prs_1001_dominicks</td>\n",
       "    </tr>\n",
       "    <tr>\n",
       "      <th>4</th>\n",
       "      <td>1001</td>\n",
       "      <td>minute.maid</td>\n",
       "      <td>1.556051e+07</td>\n",
       "      <td>26.075884</td>\n",
       "      <td>3944.680670</td>\n",
       "      <td>prs_1001_minute.maid</td>\n",
       "    </tr>\n",
       "    <tr>\n",
       "      <th>5</th>\n",
       "      <td>1003</td>\n",
       "      <td>dominicks</td>\n",
       "      <td>1.278600e+07</td>\n",
       "      <td>23.512086</td>\n",
       "      <td>3575.751535</td>\n",
       "      <td>prs_1003_dominicks</td>\n",
       "    </tr>\n",
       "    <tr>\n",
       "      <th>6</th>\n",
       "      <td>1002</td>\n",
       "      <td>tropicana</td>\n",
       "      <td>1.069882e+07</td>\n",
       "      <td>20.099309</td>\n",
       "      <td>3270.904584</td>\n",
       "      <td>prs_1002_tropicana</td>\n",
       "    </tr>\n",
       "    <tr>\n",
       "      <th>7</th>\n",
       "      <td>1000</td>\n",
       "      <td>tropicana</td>\n",
       "      <td>9.844161e+06</td>\n",
       "      <td>19.846187</td>\n",
       "      <td>3137.540593</td>\n",
       "      <td>prs_1000_tropicana</td>\n",
       "    </tr>\n",
       "    <tr>\n",
       "      <th>8</th>\n",
       "      <td>1002</td>\n",
       "      <td>dominicks</td>\n",
       "      <td>9.404042e+06</td>\n",
       "      <td>23.352023</td>\n",
       "      <td>3066.601004</td>\n",
       "      <td>prs_1002_dominicks</td>\n",
       "    </tr>\n",
       "    <tr>\n",
       "      <th>9</th>\n",
       "      <td>1002</td>\n",
       "      <td>minute.maid</td>\n",
       "      <td>6.130244e+06</td>\n",
       "      <td>17.805611</td>\n",
       "      <td>2475.932918</td>\n",
       "      <td>prs_1002_minute.maid</td>\n",
       "    </tr>\n",
       "  </tbody>\n",
       "</table>\n",
       "</div>"
      ],
      "text/plain": [
       "   Store        Brand           mse       mape         rmse  \\\n",
       "0   1000  minute.maid  1.022011e+07  18.172361  3196.891234   \n",
       "1   1001    tropicana  8.552595e+06  19.463062  2924.481928   \n",
       "2   1000    dominicks  1.080181e+07  23.172431  3286.611380   \n",
       "3   1001    dominicks  8.920132e+06  20.350161  2986.658951   \n",
       "4   1001  minute.maid  1.556051e+07  26.075884  3944.680670   \n",
       "5   1003    dominicks  1.278600e+07  23.512086  3575.751535   \n",
       "6   1002    tropicana  1.069882e+07  20.099309  3270.904584   \n",
       "7   1000    tropicana  9.844161e+06  19.846187  3137.540593   \n",
       "8   1002    dominicks  9.404042e+06  23.352023  3066.601004   \n",
       "9   1002  minute.maid  6.130244e+06  17.805611  2475.932918   \n",
       "\n",
       "             model_name  \n",
       "0  prs_1000_minute.maid  \n",
       "1    prs_1001_tropicana  \n",
       "2    prs_1000_dominicks  \n",
       "3    prs_1001_dominicks  \n",
       "4  prs_1001_minute.maid  \n",
       "5    prs_1003_dominicks  \n",
       "6    prs_1002_tropicana  \n",
       "7    prs_1000_tropicana  \n",
       "8    prs_1002_dominicks  \n",
       "9  prs_1002_minute.maid  "
      ]
     },
     "execution_count": 18,
     "metadata": {},
     "output_type": "execute_result"
    }
   ],
   "source": [
    "import pandas as pd\r\n",
    "import tempfile\r\n",
    "\r\n",
    "batch_run = pipeline_run.find_step_run(parallel_run_train_step.name)[0]\r\n",
    "batch_output = batch_run.get_output_data(output_dir.name)\r\n",
    "\r\n",
    "target_dir = tempfile.mkdtemp()\r\n",
    "batch_output.download(local_path=target_dir)\r\n",
    "result_file = os.path.join(target_dir, batch_output.path_on_datastore, parallel_run_train_config.append_row_file_name)\r\n",
    "\r\n",
    "df = pd.read_csv(result_file, delimiter=\" \", header=None)\r\n",
    "\r\n",
    "df.columns = [ \"Store\", \"Brand\", \"mse\", \"mape\", \"rmse\", \"model_name\"]\r\n",
    "print(\"Train result has \", df.shape[0], \" rows\")\r\n",
    "df.head(10)"
   ]
  },
  {
   "cell_type": "markdown",
   "metadata": {},
   "source": [
    "## Inference"
   ]
  },
  {
   "cell_type": "markdown",
   "metadata": {},
   "source": [
    "### Create the configuration to wrap the inference script\n",
    "The parameter `partition_keys` is a list containing a subset of the dataset partition keys, specifying how is the input dataset partitioned. Each and every possible combination of values of partition_keys will form up a mini-batch. E.g., by specifying `partition_keys=['store', 'brand']` will result in mini-batches like `store=1000 && brand=tropicana`, `store=1000 && brand=dominicks`, `store=1001 && brand=dominicks`, ..."
   ]
  },
  {
   "cell_type": "code",
   "execution_count": 21,
   "metadata": {},
   "outputs": [
    {
     "name": "stderr",
     "output_type": "stream",
     "text": [
      "WARNING - Parameter partition_keys: This is an experimental parameter, and may change at any time. Please see https://aka.ms/azuremlexperimental for more information.\n"
     ]
    }
   ],
   "source": [
    "from azureml.pipeline.steps import ParallelRunStep, ParallelRunConfig\r\n",
    "\r\n",
    "# In a real-world scenario, you'll want to shape your process per node and nodes to fit your problem domain.\r\n",
    "parallel_run_inference_config = ParallelRunConfig(\r\n",
    "    source_directory=scripts_folder,\r\n",
    "    entry_script=inference_script_file,  # the user script to run against each input\r\n",
    "    partition_keys=['Store', 'Brand'],\r\n",
    "    error_threshold= -1,\r\n",
    "    output_action='append_row',\r\n",
    "    append_row_file_name=\"prediction_output.txt\",\r\n",
    "    environment=batch_env,\r\n",
    "    compute_target=compute_target, \r\n",
    "    node_count=2,\r\n",
    "    run_invocation_timeout=600\r\n",
    ")"
   ]
  },
  {
   "cell_type": "markdown",
   "metadata": {},
   "source": [
    "### Create the pipeline step"
   ]
  },
  {
   "cell_type": "code",
   "execution_count": 22,
   "metadata": {},
   "outputs": [],
   "source": [
    "parallel_run_inference_step = ParallelRunStep(\r\n",
    "    name='forecast',\r\n",
    "    inputs=[partitioned_dataset.as_named_input(\"partitioned_tabular_input\")],\r\n",
    "    output=output_dir,\r\n",
    "    parallel_run_config=parallel_run_inference_config,\r\n",
    "    allow_reuse=False\r\n",
    ")"
   ]
  },
  {
   "cell_type": "markdown",
   "metadata": {},
   "source": [
    "### Run the pipeline"
   ]
  },
  {
   "cell_type": "code",
   "execution_count": 23,
   "metadata": {},
   "outputs": [
    {
     "name": "stdout",
     "output_type": "stream",
     "text": [
      "Created step forecast [f86ab7e3][7dd799f0-a27b-4420-ae09-c4f66c28fe4d], (This step will run and generate new outputs)\n",
      "Submitted PipelineRun dac5b96c-b823-4293-8729-4d146cc0feec\n",
      "Link to Azure Machine Learning Portal: https://ml.azure.com/runs/dac5b96c-b823-4293-8729-4d146cc0feec?wsid=/subscriptions/0e9bace8-7a81-4922-83b5-d995ff706507/resourcegroups/azureml/workspaces/ws01ent&tid=72f988bf-86f1-41af-91ab-2d7cd011db47\n"
     ]
    }
   ],
   "source": [
    "from azureml.core import Experiment\r\n",
    "from azureml.pipeline.core import Pipeline\r\n",
    "\r\n",
    "pipeline = Pipeline(workspace=ws, steps=[parallel_run_inference_step])\r\n",
    "\r\n",
    "pipeline_run = Experiment(ws, 'Many_Model_Forecast').submit(pipeline)"
   ]
  },
  {
   "cell_type": "code",
   "execution_count": 31,
   "metadata": {},
   "outputs": [],
   "source": [
    "pipeline_run.wait_for_completion(show_output=True)"
   ]
  },
  {
   "cell_type": "markdown",
   "metadata": {},
   "source": [
    "## View the prediction results\r\n",
    "In the prediction.py file you can see that the ResultList with prediction result gets returned. These are written to the DataStore specified in the PipelineData object as the output data, which in this case is called inferences. This containers the outputs from all of the worker nodes used in the compute cluster. You can download this data to view the results ... below just filters to the first 10 rows"
   ]
  },
  {
   "cell_type": "code",
   "execution_count": 26,
   "metadata": {},
   "outputs": [
    {
     "name": "stdout",
     "output_type": "stream",
     "text": [
      "Prediction has  1210  rows\n"
     ]
    },
    {
     "data": {
      "text/html": [
       "<div>\n",
       "<style scoped>\n",
       "    .dataframe tbody tr th:only-of-type {\n",
       "        vertical-align: middle;\n",
       "    }\n",
       "\n",
       "    .dataframe tbody tr th {\n",
       "        vertical-align: top;\n",
       "    }\n",
       "\n",
       "    .dataframe thead th {\n",
       "        text-align: right;\n",
       "    }\n",
       "</style>\n",
       "<table border=\"1\" class=\"dataframe\">\n",
       "  <thead>\n",
       "    <tr style=\"text-align: right;\">\n",
       "      <th></th>\n",
       "      <th>WeekStarting</th>\n",
       "      <th>Prediction</th>\n",
       "      <th>Store</th>\n",
       "      <th>Brand</th>\n",
       "    </tr>\n",
       "  </thead>\n",
       "  <tbody>\n",
       "    <tr>\n",
       "      <th>0</th>\n",
       "      <td>1990-06-14</td>\n",
       "      <td>NaN</td>\n",
       "      <td>1001</td>\n",
       "      <td>dominicks</td>\n",
       "    </tr>\n",
       "    <tr>\n",
       "      <th>1</th>\n",
       "      <td>1990-06-21</td>\n",
       "      <td>NaN</td>\n",
       "      <td>1001</td>\n",
       "      <td>dominicks</td>\n",
       "    </tr>\n",
       "    <tr>\n",
       "      <th>2</th>\n",
       "      <td>1990-06-28</td>\n",
       "      <td>NaN</td>\n",
       "      <td>1001</td>\n",
       "      <td>dominicks</td>\n",
       "    </tr>\n",
       "    <tr>\n",
       "      <th>3</th>\n",
       "      <td>1990-07-05</td>\n",
       "      <td>NaN</td>\n",
       "      <td>1001</td>\n",
       "      <td>dominicks</td>\n",
       "    </tr>\n",
       "    <tr>\n",
       "      <th>4</th>\n",
       "      <td>1990-07-12</td>\n",
       "      <td>13554.387879</td>\n",
       "      <td>1001</td>\n",
       "      <td>dominicks</td>\n",
       "    </tr>\n",
       "    <tr>\n",
       "      <th>5</th>\n",
       "      <td>1990-07-19</td>\n",
       "      <td>15375.931186</td>\n",
       "      <td>1001</td>\n",
       "      <td>dominicks</td>\n",
       "    </tr>\n",
       "    <tr>\n",
       "      <th>6</th>\n",
       "      <td>1990-07-26</td>\n",
       "      <td>15243.409687</td>\n",
       "      <td>1001</td>\n",
       "      <td>dominicks</td>\n",
       "    </tr>\n",
       "    <tr>\n",
       "      <th>7</th>\n",
       "      <td>1990-08-02</td>\n",
       "      <td>13649.643619</td>\n",
       "      <td>1001</td>\n",
       "      <td>dominicks</td>\n",
       "    </tr>\n",
       "    <tr>\n",
       "      <th>8</th>\n",
       "      <td>1990-08-09</td>\n",
       "      <td>14017.612778</td>\n",
       "      <td>1001</td>\n",
       "      <td>dominicks</td>\n",
       "    </tr>\n",
       "    <tr>\n",
       "      <th>9</th>\n",
       "      <td>1990-08-16</td>\n",
       "      <td>15976.467391</td>\n",
       "      <td>1001</td>\n",
       "      <td>dominicks</td>\n",
       "    </tr>\n",
       "  </tbody>\n",
       "</table>\n",
       "</div>"
      ],
      "text/plain": [
       "  WeekStarting    Prediction  Store      Brand\n",
       "0   1990-06-14           NaN   1001  dominicks\n",
       "1   1990-06-21           NaN   1001  dominicks\n",
       "2   1990-06-28           NaN   1001  dominicks\n",
       "3   1990-07-05           NaN   1001  dominicks\n",
       "4   1990-07-12  13554.387879   1001  dominicks\n",
       "5   1990-07-19  15375.931186   1001  dominicks\n",
       "6   1990-07-26  15243.409687   1001  dominicks\n",
       "7   1990-08-02  13649.643619   1001  dominicks\n",
       "8   1990-08-09  14017.612778   1001  dominicks\n",
       "9   1990-08-16  15976.467391   1001  dominicks"
      ]
     },
     "execution_count": 26,
     "metadata": {},
     "output_type": "execute_result"
    }
   ],
   "source": [
    "import pandas as pd\r\n",
    "import tempfile\r\n",
    "\r\n",
    "batch_run = pipeline_run.find_step_run(parallel_run_inference_step.name)[0]\r\n",
    "batch_output = batch_run.get_output_data(output_dir.name)\r\n",
    "\r\n",
    "target_dir = tempfile.mkdtemp()\r\n",
    "batch_output.download(local_path=target_dir)\r\n",
    "result_file = os.path.join(target_dir, batch_output.path_on_datastore, parallel_run_config.append_row_file_name)\r\n",
    "\r\n",
    "df = pd.read_csv(result_file, delimiter=\" \", header=None)\r\n",
    "df.columns = [\"WeekStarting\", \"Prediction\", \"Store\", \"Brand\"]\r\n",
    "print(\"Prediction has \", df.shape[0], \" rows\")\r\n",
    "df.head(10)"
   ]
  }
 ],
 "metadata": {
  "authors": [
   {
    "name": "pansav"
   },
   {
    "name": "tracych"
   },
   {
    "name": "migu"
   }
  ],
  "category": "Other notebooks",
  "compute": [
   "AML Compute"
  ],
  "datasets": [
   "OJ Sales Data"
  ],
  "deployment": [
   "None"
  ],
  "exclude_from_index": false,
  "framework": [
   "None"
  ],
  "friendly_name": "Batch inferencing OJ Sales Data partitioned by column using ParallelRunStep",
  "index_order": 1,
  "interpreter": {
   "hash": "f7f364c9551711cd4699acda32e0312c3edab483ae246bf330de758088cecccb"
  },
  "kernelspec": {
   "display_name": "Python 3.8.5 64-bit ('dlresearch': conda)",
   "name": "python3"
  },
  "language_info": {
   "codemirror_mode": {
    "name": "ipython",
    "version": 3
   },
   "file_extension": ".py",
   "mimetype": "text/x-python",
   "name": "python",
   "nbconvert_exporter": "python",
   "pygments_lexer": "ipython3",
   "version": "3.8.5"
  }
 },
 "nbformat": 4,
 "nbformat_minor": 4
}